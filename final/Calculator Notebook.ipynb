{
 "cells": [
  {
   "cell_type": "markdown",
   "metadata": {},
   "source": [
    "# Calculator Notebook\n",
    "> This is an empty notebook, configured for use with R, that you may use on the final exam as a calculator and a place to look up critical values. "
   ]
  },
  {
   "cell_type": "code",
   "execution_count": 1,
   "metadata": {},
   "outputs": [
    {
     "data": {
      "text/plain": [
       "1.25 with absolute error < 1.4e-14"
      ]
     },
     "metadata": {},
     "output_type": "display_data"
    }
   ],
   "source": [
    "fx <- function(x)5*x^3\n",
    "\n",
    "integrate(fx,0,1)"
   ]
  },
  {
   "cell_type": "code",
   "execution_count": 2,
   "metadata": {},
   "outputs": [
    {
     "data": {
      "text/html": [
       "9.75"
      ],
      "text/latex": [
       "9.75"
      ],
      "text/markdown": [
       "9.75"
      ],
      "text/plain": [
       "[1] 9.75"
      ]
     },
     "metadata": {},
     "output_type": "display_data"
    }
   ],
   "source": [
    "15*.65"
   ]
  },
  {
   "cell_type": "code",
   "execution_count": 5,
   "metadata": {},
   "outputs": [
    {
     "data": {
      "text/html": [
       "0.520945885274676"
      ],
      "text/latex": [
       "0.520945885274676"
      ],
      "text/markdown": [
       "0.520945885274676"
      ],
      "text/plain": [
       "[1] 0.5209459"
      ]
     },
     "metadata": {},
     "output_type": "display_data"
    },
    {
     "data": {
      "text/html": [
       "0.599269776335154"
      ],
      "text/latex": [
       "0.599269776335154"
      ],
      "text/markdown": [
       "0.599269776335154"
      ],
      "text/plain": [
       "[1] 0.5992698"
      ]
     },
     "metadata": {},
     "output_type": "display_data"
    },
    {
     "data": {
      "text/html": [
       "4.29926977633515"
      ],
      "text/latex": [
       "4.29926977633515"
      ],
      "text/markdown": [
       "4.29926977633515"
      ],
      "text/plain": [
       "[1] 4.29927"
      ]
     },
     "metadata": {},
     "output_type": "display_data"
    },
    {
     "data": {
      "text/html": [
       "3.10073022366485"
      ],
      "text/latex": [
       "3.10073022366485"
      ],
      "text/markdown": [
       "3.10073022366485"
      ],
      "text/plain": [
       "[1] 3.10073"
      ]
     },
     "metadata": {},
     "output_type": "display_data"
    }
   ],
   "source": [
    "# 7\n",
    "\n",
    "n = 65\n",
    "mean = 3.7\n",
    "sd = 4.2\n",
    "alpha = 1-.75\n",
    "\n",
    "se = sd/sqrt(n)\n",
    "se\n",
    "\n",
    "z = qnorm(1-alpha/2)*se\n",
    "z\n",
    "mean + z\n",
    "mean - z"
   ]
  },
  {
   "cell_type": "code",
   "execution_count": 7,
   "metadata": {},
   "outputs": [
    {
     "data": {
      "text/html": [
       "3.28970725390294"
      ],
      "text/latex": [
       "3.28970725390294"
      ],
      "text/markdown": [
       "3.28970725390294"
      ],
      "text/plain": [
       "[1] 3.289707"
      ]
     },
     "metadata": {},
     "output_type": "display_data"
    }
   ],
   "source": [
    "n = NA\n",
    "s2 = .20\n",
    "\n",
    "span = 2*qnorm(.95)\n",
    "span"
   ]
  },
  {
   "cell_type": "code",
   "execution_count": null,
   "metadata": {},
   "outputs": [],
   "source": []
  },
  {
   "cell_type": "code",
   "execution_count": 8,
   "metadata": {},
   "outputs": [
    {
     "data": {
      "text/html": [
       "0.0455967623933827"
      ],
      "text/latex": [
       "0.0455967623933827"
      ],
      "text/markdown": [
       "0.0455967623933827"
      ],
      "text/plain": [
       "[1] 0.04559676"
      ]
     },
     "metadata": {},
     "output_type": "display_data"
    },
    {
     "data": {
      "text/html": [
       "96.1971005900591"
      ],
      "text/latex": [
       "96.1971005900591"
      ],
      "text/markdown": [
       "96.1971005900591"
      ],
      "text/plain": [
       "[1] 96.1971"
      ]
     },
     "metadata": {},
     "output_type": "display_data"
    }
   ],
   "source": [
    "se = .15/span\n",
    "se\n",
    "\n",
    "n = s2/(se^2)\n",
    "n"
   ]
  },
  {
   "cell_type": "code",
   "execution_count": 12,
   "metadata": {},
   "outputs": [
    {
     "data": {
      "text/html": [
       "0.150153905879251"
      ],
      "text/latex": [
       "0.150153905879251"
      ],
      "text/markdown": [
       "0.150153905879251"
      ],
      "text/plain": [
       "[1] 0.1501539"
      ]
     },
     "metadata": {},
     "output_type": "display_data"
    },
    {
     "name": "stdout",
     "output_type": "stream",
     "text": [
      "[1] 96\n"
     ]
    },
    {
     "data": {
      "text/html": [
       "97"
      ],
      "text/latex": [
       "97"
      ],
      "text/markdown": [
       "97"
      ],
      "text/plain": [
       "[1] 97"
      ]
     },
     "metadata": {},
     "output_type": "display_data"
    },
    {
     "data": {
      "text/html": [
       "0.149377911506848"
      ],
      "text/latex": [
       "0.149377911506848"
      ],
      "text/markdown": [
       "0.149377911506848"
      ],
      "text/plain": [
       "[1] 0.1493779"
      ]
     },
     "metadata": {},
     "output_type": "display_data"
    },
    {
     "data": {
      "text/html": [
       "0.150942120774691"
      ],
      "text/latex": [
       "0.150942120774691"
      ],
      "text/markdown": [
       "0.150942120774691"
      ],
      "text/plain": [
       "[1] 0.1509421"
      ]
     },
     "metadata": {},
     "output_type": "display_data"
    }
   ],
   "source": [
    "n = 96\n",
    "s2 = .20\n",
    "se = sqrt(s2/n)\n",
    "2*qnorm(.95)*se\n",
    "\n",
    "span <- function (n) sqrt(s2/n)*2*qnorm(.95)\n",
    "\n",
    "while (span(n)>=.15){\n",
    "    print(n)\n",
    "    n <- n+1\n",
    "}\n",
    "n\n",
    "span(n)\n",
    "span(95)"
   ]
  },
  {
   "cell_type": "code",
   "execution_count": null,
   "metadata": {},
   "outputs": [],
   "source": [
    "# 10\n",
    "n1 = 100\n",
    "n2 = 175\n",
    "p1 = 72/n1\n",
    "p2 = 110/n2\n",
    "alpha = .1\n",
    "z = qnorm(.95)*sqrt((p1*(1-p1)/n1)+(p2*(1-p2)/n2))\n",
    "p1\n",
    "p2\n",
    "p1-p2+z\n",
    "p1-p2-z\n",
    "z*2\n",
    "round(z*2,3)"
   ]
  },
  {
   "cell_type": "code",
   "execution_count": 17,
   "metadata": {},
   "outputs": [
    {
     "data": {
      "text/html": [
       "1.5525"
      ],
      "text/latex": [
       "1.5525"
      ],
      "text/markdown": [
       "1.5525"
      ],
      "text/plain": [
       "[1] 1.5525"
      ]
     },
     "metadata": {},
     "output_type": "display_data"
    },
    {
     "data": {
      "text/html": [
       "14.6090754194816"
      ],
      "text/latex": [
       "14.6090754194816"
      ],
      "text/markdown": [
       "14.6090754194816"
      ],
      "text/plain": [
       "[1] 14.60908"
      ]
     },
     "metadata": {},
     "output_type": "display_data"
    },
    {
     "data": {
      "text/html": [
       "7.99092458051845"
      ],
      "text/latex": [
       "7.99092458051845"
      ],
      "text/markdown": [
       "7.99092458051845"
      ],
      "text/plain": [
       "[1] 7.990925"
      ]
     },
     "metadata": {},
     "output_type": "display_data"
    }
   ],
   "source": [
    "# 11\n",
    "n = 16\n",
    "mean = 11.3\n",
    "sd = 6.21\n",
    "\n",
    "alpha = .05\n",
    "\n",
    "se = sd/sqrt(n)\n",
    "\n",
    "ub = mean + qt(1-alpha/2,n-1)*se\n",
    "lb = mean - qt(1-alpha/2,n-1)*se\n",
    "\n",
    "se\n",
    "ub\n",
    "lb"
   ]
  },
  {
   "cell_type": "code",
   "execution_count": 19,
   "metadata": {},
   "outputs": [
    {
     "data": {
      "text/html": [
       "43.217"
      ],
      "text/latex": [
       "43.217"
      ],
      "text/markdown": [
       "43.217"
      ],
      "text/plain": [
       "[1] 43.217"
      ]
     },
     "metadata": {},
     "output_type": "display_data"
    }
   ],
   "source": [
    "# 12\n",
    "\n",
    "n1 = 16\n",
    "n2 = 12\n",
    "\n",
    "sd1 = 6.21\n",
    "sd2 = 7.04\n",
    "\n",
    "sp2 = ((n1-1)*sd1^2 + (n2-1)*sd2^2)/(n1+n2-2)\n",
    "round(sp2,3)"
   ]
  },
  {
   "cell_type": "code",
   "execution_count": 26,
   "metadata": {},
   "outputs": [
    {
     "data": {
      "text/html": [
       "0.005"
      ],
      "text/latex": [
       "0.005"
      ],
      "text/markdown": [
       "0.005"
      ],
      "text/plain": [
       "[1] 0.005"
      ]
     },
     "metadata": {},
     "output_type": "display_data"
    },
    {
     "data": {
      "text/html": [
       "0.995"
      ],
      "text/latex": [
       "0.995"
      ],
      "text/markdown": [
       "0.995"
      ],
      "text/plain": [
       "[1] 0.995"
      ]
     },
     "metadata": {},
     "output_type": "display_data"
    },
    {
     "data": {
      "text/html": [
       "19.9958678749563"
      ],
      "text/latex": [
       "19.9958678749563"
      ],
      "text/markdown": [
       "19.9958678749563"
      ],
      "text/plain": [
       "[1] 19.99587"
      ]
     },
     "metadata": {},
     "output_type": "display_data"
    },
    {
     "data": {
      "text/html": [
       "65.475570903468"
      ],
      "text/latex": [
       "65.475570903468"
      ],
      "text/markdown": [
       "65.475570903468"
      ],
      "text/plain": [
       "[1] 65.47557"
      ]
     },
     "metadata": {},
     "output_type": "display_data"
    },
    {
     "data": {
      "text/html": [
       "9.1365883633405"
      ],
      "text/latex": [
       "9.1365883633405"
      ],
      "text/markdown": [
       "9.1365883633405"
      ],
      "text/plain": [
       "[1] 9.136588"
      ]
     },
     "metadata": {},
     "output_type": "display_data"
    },
    {
     "data": {
      "text/html": [
       "5.04910661378136"
      ],
      "text/latex": [
       "5.04910661378136"
      ],
      "text/markdown": [
       "5.04910661378136"
      ],
      "text/plain": [
       "[1] 5.049107"
      ]
     },
     "metadata": {},
     "output_type": "display_data"
    }
   ],
   "source": [
    "#13\n",
    "n = 40\n",
    "mean = 408\n",
    "s2 = 42.8\n",
    "alpha = .01\n",
    "lb = alpha/2\n",
    "ub = 1 - alpha/2\n",
    "lb\n",
    "ub\n",
    "qchisq(lb,n-1)\n",
    "qchisq(ub,n-1)\n",
    "lb = sqrt((s2*(n-1)/qchisq(lb,n-1)))\n",
    "ub = sqrt((s2*(n-1)/qchisq(ub,n-1)))\n",
    "lb\n",
    "ub"
   ]
  },
  {
   "cell_type": "code",
   "execution_count": 27,
   "metadata": {},
   "outputs": [
    {
     "data": {
      "text/html": [
       "1.62566492282829"
      ],
      "text/latex": [
       "1.62566492282829"
      ],
      "text/markdown": [
       "1.62566492282829"
      ],
      "text/plain": [
       "[1] 1.625665"
      ]
     },
     "metadata": {},
     "output_type": "display_data"
    },
    {
     "data": {
      "text/html": [
       "0.454754561797561"
      ],
      "text/latex": [
       "0.454754561797561"
      ],
      "text/markdown": [
       "0.454754561797561"
      ],
      "text/plain": [
       "[1] 0.4547546"
      ]
     },
     "metadata": {},
     "output_type": "display_data"
    }
   ],
   "source": [
    "# 14\n",
    "\n",
    "n1 = 40 \n",
    "n2 = 40\n",
    "m1 = 408\n",
    "v1 = 42.8\n",
    "m2 = 472\n",
    "v2 = 36.8\n",
    "alpha = .05\n",
    "\n",
    "ub = .025\n",
    "lb = .975\n",
    "top = v2/v1\n",
    "u = top/qf(ub,n2-1,n1-1)\n",
    "l = top/qf(lb,n2-1,n1-1)\n",
    "u\n",
    "l"
   ]
  }
 ],
 "metadata": {
  "kernelspec": {
   "display_name": "R",
   "language": "R",
   "name": "ir"
  },
  "language_info": {
   "codemirror_mode": "r",
   "file_extension": ".r",
   "mimetype": "text/x-r-source",
   "name": "R",
   "pygments_lexer": "r",
   "version": "3.6.3"
  }
 },
 "nbformat": 4,
 "nbformat_minor": 4
}
