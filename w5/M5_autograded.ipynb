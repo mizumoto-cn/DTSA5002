{
 "cells": [
  {
   "cell_type": "markdown",
   "metadata": {
    "deletable": false,
    "editable": false,
    "nbgrader": {
     "cell_type": "markdown",
     "checksum": "1fec8b03903bea7775548c1404a364d6",
     "grade": false,
     "grade_id": "cell-41c3e9c92ee81646",
     "locked": true,
     "schema_version": 3,
     "solution": false,
     "task": false
    }
   },
   "source": [
    "# Module 5 Autograded Assignment"
   ]
  },
  {
   "cell_type": "code",
   "execution_count": 1,
   "metadata": {
    "deletable": false,
    "editable": false,
    "nbgrader": {
     "cell_type": "code",
     "checksum": "265784816f5b0641a736055d4c38c122",
     "grade": false,
     "grade_id": "cell-90c20650464a76a9",
     "locked": true,
     "schema_version": 3,
     "solution": false,
     "task": false
    }
   },
   "outputs": [],
   "source": [
    "# Run this cell to load necesary libraries for autograder\n",
    "library(testthat)"
   ]
  },
  {
   "cell_type": "markdown",
   "metadata": {
    "deletable": false,
    "editable": false,
    "nbgrader": {
     "cell_type": "markdown",
     "checksum": "70ace259106386fd61963dc20926cd8d",
     "grade": false,
     "grade_id": "cell-ef338493e162eff2",
     "locked": true,
     "schema_version": 3,
     "solution": false,
     "task": false
    }
   },
   "source": [
    "# Problem 1\n",
    "\n",
    "From a random sample from Maricopa County, 385 out of 500 indicated that they were in favor of increasing the highway speed limit to 75mph. In Pima County, 267 people were in favor of increasing the speed limit, out of a random sample of 400."
   ]
  },
  {
   "cell_type": "markdown",
   "metadata": {
    "deletable": false,
    "editable": false,
    "nbgrader": {
     "cell_type": "markdown",
     "checksum": "203885882f46f54076775db00cb00a7f",
     "grade": false,
     "grade_id": "cell-18ff0a8690ec0898",
     "locked": true,
     "schema_version": 3,
     "solution": false,
     "task": false
    }
   },
   "source": [
    "**Part A)** \n",
    "\n",
    "Does there appear to be a difference in the amount of support for increasing the speed limit between the residents of the two counties? To answer this, construct a 95% confidence interval for $p_{1}-p_{2}$, the difference in the two proportions. As this is an interval of \"plausible values\" for $p_{1}-p_{2}$, if it contains the value $0$, it \"seems plausible\" that $p_{1}=p_{2}$ and we would say that there does not appear to be a difference based on the particular observations given here.\n",
    "\n",
    "Save the left endpoint of your confidence interval as `p1.a.lower` and save the right endpoint as `p1.a.upper`. (Note: The \"p1.a\" in each of these variables refers to the fact that this is part a of Problem 1. It does not refer to the first population proportion.)"
   ]
  },
  {
   "cell_type": "code",
   "execution_count": 15,
   "metadata": {
    "deletable": false,
    "nbgrader": {
     "cell_type": "code",
     "checksum": "ee010d52293552c567a37f636c65aedb",
     "grade": false,
     "grade_id": "cell-dd2f9e908b184d56",
     "locked": false,
     "schema_version": 3,
     "solution": true,
     "task": false
    }
   },
   "outputs": [
    {
     "data": {
      "text/html": [
       "0.0301506115195032"
      ],
      "text/latex": [
       "0.0301506115195032"
      ],
      "text/markdown": [
       "0.0301506115195032"
      ],
      "text/plain": [
       "[1] 0.03015061"
      ]
     },
     "metadata": {},
     "output_type": "display_data"
    },
    {
     "data": {
      "text/html": [
       "0.77"
      ],
      "text/latex": [
       "0.77"
      ],
      "text/markdown": [
       "0.77"
      ],
      "text/plain": [
       "[1] 0.77"
      ]
     },
     "metadata": {},
     "output_type": "display_data"
    },
    {
     "data": {
      "text/html": [
       "0.6675"
      ],
      "text/latex": [
       "0.6675"
      ],
      "text/markdown": [
       "0.6675"
      ],
      "text/plain": [
       "[1] 0.6675"
      ]
     },
     "metadata": {},
     "output_type": "display_data"
    },
    {
     "data": {
      "text/html": [
       "0.0434058873099153"
      ],
      "text/latex": [
       "0.0434058873099153"
      ],
      "text/markdown": [
       "0.0434058873099153"
      ],
      "text/plain": [
       "[1] 0.04340589"
      ]
     },
     "metadata": {},
     "output_type": "display_data"
    },
    {
     "data": {
      "text/html": [
       "0.161594112690085"
      ],
      "text/latex": [
       "0.161594112690085"
      ],
      "text/markdown": [
       "0.161594112690085"
      ],
      "text/plain": [
       "[1] 0.1615941"
      ]
     },
     "metadata": {},
     "output_type": "display_data"
    }
   ],
   "source": [
    "# Replace each NA with your answers after you work out code to solve the problem below.\n",
    "n.1=500\n",
    "n.2=400\n",
    "phat.1=385/500\n",
    "phat.2=267/400\n",
    "se=sqrt((phat.1*(1-phat.1)/n.1) + (phat.2*(1-phat.2)/n.2))\n",
    "se\n",
    "phat.1\n",
    "phat.2\n",
    "p1.a.lower = phat.1-phat.2-qnorm(.975)*se\n",
    "p1.a.upper = phat.1-phat.2+qnorm(.975)*se\n",
    "p1.a.are_different = TRUE #Replace this NA with either TRUE or FALSE\n",
    "\n",
    "# your code here\n",
    "p1.a.lower\n",
    "p1.a.upper"
   ]
  },
  {
   "cell_type": "code",
   "execution_count": 5,
   "metadata": {},
   "outputs": [
    {
     "data": {
      "text/html": [
       "0.0301506115195032"
      ],
      "text/latex": [
       "0.0301506115195032"
      ],
      "text/markdown": [
       "0.0301506115195032"
      ],
      "text/plain": [
       "[1] 0.03015061"
      ]
     },
     "metadata": {},
     "output_type": "display_data"
    }
   ],
   "source": [
    "sqrt((phat.1*(1-phat.1)/n.1) + (phat.2*(1-phat.2)/n.2))"
   ]
  },
  {
   "cell_type": "code",
   "execution_count": null,
   "metadata": {
    "deletable": false,
    "editable": false,
    "nbgrader": {
     "cell_type": "code",
     "checksum": "e6376377414821e5c0f81239a6cfea80",
     "grade": true,
     "grade_id": "cell-7bc560392f6631f6",
     "locked": true,
     "points": 3,
     "schema_version": 3,
     "solution": false,
     "task": false
    }
   },
   "outputs": [],
   "source": [
    "# Hidden Test Cell"
   ]
  },
  {
   "cell_type": "markdown",
   "metadata": {
    "deletable": false,
    "editable": false,
    "nbgrader": {
     "cell_type": "markdown",
     "checksum": "0761615bda8e08e74ad0409e593f5aad",
     "grade": false,
     "grade_id": "cell-1bebe4222f29cc40",
     "locked": true,
     "schema_version": 3,
     "solution": false,
     "task": false
    }
   },
   "source": [
    "**Part b)** The \"confidence level\" for part (a) was $0.95$. Give any confidence level that will change your conclusion from part (a). \n",
    "\n",
    "(Note: Doing this is real life with your data is an unethical approach known as \"data snooping\". Don't do it!)"
   ]
  },
  {
   "cell_type": "code",
   "execution_count": 16,
   "metadata": {
    "deletable": false,
    "nbgrader": {
     "cell_type": "code",
     "checksum": "8ff9605fecca6d71bf4ec7698bab9a3f",
     "grade": false,
     "grade_id": "cell-605a4416d65b50f4",
     "locked": false,
     "schema_version": 3,
     "solution": true,
     "task": false
    }
   },
   "outputs": [],
   "source": [
    "# Replace the NA with your answer after you work out code to solve the problem below.\n",
    "new.level = .99975\n",
    "\n",
    "# your code here\n"
   ]
  },
  {
   "cell_type": "code",
   "execution_count": null,
   "metadata": {
    "deletable": false,
    "editable": false,
    "nbgrader": {
     "cell_type": "code",
     "checksum": "2294ded91dbbe536d79d89d71b2e159d",
     "grade": true,
     "grade_id": "cell-27329f018e27dde5",
     "locked": true,
     "points": 3,
     "schema_version": 3,
     "solution": false,
     "task": false
    }
   },
   "outputs": [],
   "source": [
    "# Hidden Test Cell"
   ]
  },
  {
   "cell_type": "markdown",
   "metadata": {
    "deletable": false,
    "editable": false,
    "nbgrader": {
     "cell_type": "markdown",
     "checksum": "9c92d2c46b9033128ab40dee87fe89bd",
     "grade": false,
     "grade_id": "cell-fbe9db8c3a8ebbbd",
     "locked": true,
     "schema_version": 3,
     "solution": false,
     "task": false
    }
   },
   "source": [
    "# Question 2\n",
    "\n",
    "You are proctoring a test for class A and decide to measure the length of time it takes each person to finish. These times are given below."
   ]
  },
  {
   "cell_type": "code",
   "execution_count": 17,
   "metadata": {
    "deletable": false,
    "editable": false,
    "nbgrader": {
     "cell_type": "code",
     "checksum": "e2fbd34bc0576c10aeaba24a4c515407",
     "grade": false,
     "grade_id": "cell-86fe394d37ce69e3",
     "locked": true,
     "schema_version": 3,
     "solution": false,
     "task": false
    }
   },
   "outputs": [],
   "source": [
    "# Run this cell\n",
    "times.A = c(44.84, 44.17, 38.2, 45.2, 38.83, \n",
    "            47.38, 42.36, 38.1, 36.51, 35.1, \n",
    "            35.52, 33.43, 44.86, 43.49, 39.05)"
   ]
  },
  {
   "cell_type": "markdown",
   "metadata": {
    "deletable": false,
    "editable": false,
    "nbgrader": {
     "cell_type": "markdown",
     "checksum": "169b976394924444d436a1aa3f3e3d4d",
     "grade": false,
     "grade_id": "cell-ae81a15ee8ae3f5f",
     "locked": true,
     "schema_version": 3,
     "solution": false,
     "task": false
    }
   },
   "source": [
    "Typing `order(times.A)` will give a vector of rankings for each of the 15 values in \"times.A\", with 1 being the smallest and 15 being the largest.\n",
    "\n",
    "Typing `times.A[order(times.A)]` will order the vector \"times.A\" and will return\n",
    "\n",
    "    33.43 35.1 35.52 36.51 38.1 38.2 38.83 39.05 42.36 43.49 44.17 44.84 44.86 45.2 47.38\n",
    "    \n",
    "The value $33.43$ is $1/15$ of the data set. Note that $1/15 \\approx 0.067$ so we can say that approximately 6.7\\% of the data is at or below $33.43$.  \n",
    "\n",
    "For the theoretical $N(0,1)$ distribution, the critical value that captures 1/15 of the area under the pdf to the left is <code>qnorm(1/15)</code>. Running this command in R gives us approximately $-1.50$. Critical values that divide up a distribution into pieces of equal area, i.e. qnorm(1/15), qnorm(2/15), ..., qnorm(14/15) are known as <b>quantiles</b>.\n",
    "\n",
    "Plotting $33.43$ against qnorm(1/15), $35.1$ against qnorm(2/15), $35.52$ against qnorm(3/13), et. cetera is known as a <b>quantile-quantile plot</b>. If the data are a sample from a $N(0,1)$ distribution, we would expect this plot to follow the line $y=x$. If the data are a sample from a different normal distribution, we expect this plot to still look like a line even though the slope and y-intercept might be different from 1 and 0, respectively.\n",
    "\n",
    "Run the next cell to make a quantile-quantile plot for the data against the $N(0,1)$ distribution and to fit a line."
   ]
  },
  {
   "cell_type": "code",
   "execution_count": 18,
   "metadata": {
    "deletable": false,
    "editable": false,
    "nbgrader": {
     "cell_type": "code",
     "checksum": "b710c74ee7cef021952afdd426f34809",
     "grade": false,
     "grade_id": "cell-dd0770acd57b9f55",
     "locked": true,
     "schema_version": 3,
     "solution": false,
     "task": false
    }
   },
   "outputs": [
    {
     "data": {
      "image/png": "[encoded data removed]",
      "text/plain": [
       "Plot with title “Normal Q-Q Plot”"
      ]
     },
     "metadata": {
      "image/png": {
       "height": 420,
       "width": 420
      },
      "text/plain": {
       "height": 420,
       "width": 420
      }
     },
     "output_type": "display_data"
    }
   ],
   "source": [
    "# Run this cell\n",
    "qqnorm(times.A)\n",
    "qqline(times.A)"
   ]
  },
  {
   "cell_type": "markdown",
   "metadata": {
    "deletable": false,
    "editable": false,
    "nbgrader": {
     "cell_type": "markdown",
     "checksum": "946f92a323b79133e81f117096b0b9a6",
     "grade": false,
     "grade_id": "cell-0fa2a755de7a87d2",
     "locked": true,
     "schema_version": 3,
     "solution": false,
     "task": false
    }
   },
   "source": [
    "Do you see a linear relationship? It is difficult to say for sure. Sampling variability is always going to keep us from getting a perfect line even if the data are indeed from a normal distribution. This is especially apparent for small samples as we have here. Reading \"qq-plots\" takes practice. It might be a fun exercise for you to repeatedly simulate data sets of size 15 that are known to be from a normal distribution, using the R command\n",
    "\n",
    "<code>my.simulated.data = rnorm(15,some_mean_here, some_stand_dev_here)</code>\n",
    "\n",
    "For each sample you could then make a qq-plot. Studying the plots will give you some idea of what you should expect to see when your sample is really from a normal distribution.\n",
    "\n",
    "It is our opinion that the qq-plot from the previous cell lends support to the assumption that the test times distribution might be normal. We will move forward under this assumption."
   ]
  },
  {
   "cell_type": "markdown",
   "metadata": {
    "deletable": false,
    "editable": false,
    "nbgrader": {
     "cell_type": "markdown",
     "checksum": "e342f4e886ab07e3c39bca9c75de5187",
     "grade": false,
     "grade_id": "cell-494fcc58e1a086aa",
     "locked": true,
     "schema_version": 3,
     "solution": false,
     "task": false
    }
   },
   "source": [
    "**Part A)** Calculate the 95% confidence interval for $\\sigma_A$, the true standard deviation for the time it takes to take the test. Define this interval such that 2.5% of the area is lower than the lower bound and 2.5% of the area is above the upper bound. Save the bounds of your confidence interval as `p2.a.lower` and `p2.a.upper`. Round your answers to 2 decimal places."
   ]
  },
  {
   "cell_type": "code",
   "execution_count": 27,
   "metadata": {
    "deletable": false,
    "nbgrader": {
     "cell_type": "code",
     "checksum": "f54bbb724063d569631bc9788f77df14",
     "grade": false,
     "grade_id": "cell-84d6f2b520fca0b2",
     "locked": false,
     "schema_version": 3,
     "solution": true,
     "task": false
    }
   },
   "outputs": [
    {
     "data": {
      "text/html": [
       "3.21"
      ],
      "text/latex": [
       "3.21"
      ],
      "text/markdown": [
       "3.21"
      ],
      "text/plain": [
       "[1] 3.21"
      ]
     },
     "metadata": {},
     "output_type": "display_data"
    },
    {
     "data": {
      "text/html": [
       "6.91"
      ],
      "text/latex": [
       "6.91"
      ],
      "text/markdown": [
       "6.91"
      ],
      "text/plain": [
       "[1] 6.91"
      ]
     },
     "metadata": {},
     "output_type": "display_data"
    }
   ],
   "source": [
    "# Placeholders for your answers\n",
    "p2.a.lower = NA\n",
    "p2.a.upper = NA\n",
    "\n",
    "# your code here\n",
    "# your code here\n",
    "n <- length(times.A)\n",
    "df <- n - 1\n",
    "sample_sd <- sd(times.A)\n",
    "\n",
    "# calculate chi-square values\n",
    "chi.lower <- qchisq(0.975, df)\n",
    "chi.upper <- qchisq(0.025, df)\n",
    "\n",
    "# calculate confidence interval\n",
    "p2.a.lower <- round(sqrt((df * sample_sd^2) / chi.lower), 2)\n",
    "p2.a.upper <- round(sqrt((df * sample_sd^2) / chi.upper), 2)\n",
    "p2.a.lower\n",
    "p2.a.upper"
   ]
  },
  {
   "cell_type": "code",
   "execution_count": null,
   "metadata": {
    "deletable": false,
    "editable": false,
    "nbgrader": {
     "cell_type": "code",
     "checksum": "ff7c763f61fa2790a4bfb41fcfa3a4bd",
     "grade": true,
     "grade_id": "cell-194a6396276cdaf8",
     "locked": true,
     "points": 3,
     "schema_version": 3,
     "solution": false,
     "task": false
    }
   },
   "outputs": [],
   "source": [
    "# Hidden Test Cell"
   ]
  },
  {
   "cell_type": "markdown",
   "metadata": {
    "deletable": false,
    "editable": false,
    "nbgrader": {
     "cell_type": "markdown",
     "checksum": "3fc01981b4f742bce1c5ebdec419c3a8",
     "grade": false,
     "grade_id": "cell-fd2dca78a997f5dd",
     "locked": true,
     "schema_version": 3,
     "solution": false,
     "task": false
    }
   },
   "source": [
    "**Part B)** Calculate the upper bound of the 95% confidence interval for $\\sigma_A^2$ where the lower bound of the **final** confidence interval is $0$. Save your answer as `p2.b.upper`. Round your answer to two decimal places."
   ]
  },
  {
   "cell_type": "code",
   "execution_count": 31,
   "metadata": {
    "deletable": false,
    "nbgrader": {
     "cell_type": "code",
     "checksum": "b0abe6e80b8b7f168a1d2aa5f7bcb4db",
     "grade": false,
     "grade_id": "cell-1fef137f099a6005",
     "locked": false,
     "schema_version": 3,
     "solution": true,
     "task": false
    }
   },
   "outputs": [
    {
     "data": {
      "text/html": [
       "40.93"
      ],
      "text/latex": [
       "40.93"
      ],
      "text/markdown": [
       "40.93"
      ],
      "text/plain": [
       "[1] 40.93"
      ]
     },
     "metadata": {},
     "output_type": "display_data"
    }
   ],
   "source": [
    "# Placeholder for your answer\n",
    "p2.b.upper = NA\n",
    "\n",
    "# your code here\n",
    "# calculate chi-square value for upper bound\n",
    "chi.upper.var <- qchisq(0.05, df)\n",
    "\n",
    "# calculate upper bound of confidence interval for variance\n",
    "p2.b.upper <- round((df * sample_sd^2) / chi.upper.var, 2)\n",
    "p2.b.upper"
   ]
  },
  {
   "cell_type": "code",
   "execution_count": null,
   "metadata": {
    "deletable": false,
    "editable": false,
    "nbgrader": {
     "cell_type": "code",
     "checksum": "fa7976e733427bb39e06463201c23180",
     "grade": true,
     "grade_id": "cell-88bbf1f2284e4ef4",
     "locked": true,
     "points": 3,
     "schema_version": 3,
     "solution": false,
     "task": false
    }
   },
   "outputs": [],
   "source": [
    "# Hidden Test Cell"
   ]
  },
  {
   "cell_type": "markdown",
   "metadata": {
    "deletable": false,
    "editable": false,
    "nbgrader": {
     "cell_type": "markdown",
     "checksum": "8a08ad534cfd45695d561b7fc38862bc",
     "grade": false,
     "grade_id": "cell-d98a1622cdbecf59",
     "locked": true,
     "schema_version": 3,
     "solution": false,
     "task": false
    }
   },
   "source": [
    "**Part C)** You give the same test to a different group of students, called class B, and record the times it takes each of them to finish. Assume that each time from class B is also normally distributed, but a with (potentially) different underlying mean and variance. Note that class A and class B have different numbers of students. \n",
    "\n",
    "Calculate the 95% confidence interval for the ratio of variances $\\sigma_A^2/\\sigma_B^2$ such that 2.5% of the area of the distribution is below the lower bound and 2.5% of the area is above the upper bound. Save your answers as `p2.c.lower` and `p2.c.upper`. Round your answers to two decimal places."
   ]
  },
  {
   "cell_type": "code",
   "execution_count": 22,
   "metadata": {
    "deletable": false,
    "editable": false,
    "nbgrader": {
     "cell_type": "code",
     "checksum": "8529bbdffaa4b52cf25a8779416bc836",
     "grade": false,
     "grade_id": "cell-01f41945306ac207",
     "locked": true,
     "schema_version": 3,
     "solution": false,
     "task": false
    }
   },
   "outputs": [],
   "source": [
    "times.B = c(35.22, 45.46, 34.32, 51.75, 39, 52.07, \n",
    "            39.52, 36.17, 42.15, 42.16, 31.92, 48.32,\n",
    "            35.28, 44.01, 44.97, 42.83, 41.29, 43.19\n",
    ")"
   ]
  },
  {
   "cell_type": "code",
   "execution_count": 30,
   "metadata": {
    "deletable": false,
    "nbgrader": {
     "cell_type": "code",
     "checksum": "da5df31c607ebbc26f679cd1372c0148",
     "grade": false,
     "grade_id": "cell-e80c68da3bc5dd69",
     "locked": false,
     "schema_version": 3,
     "solution": true,
     "task": false
    }
   },
   "outputs": [
    {
     "data": {
      "text/html": [
       "0.21"
      ],
      "text/latex": [
       "0.21"
      ],
      "text/markdown": [
       "0.21"
      ],
      "text/plain": [
       "[1] 0.21"
      ]
     },
     "metadata": {},
     "output_type": "display_data"
    },
    {
     "data": {
      "text/html": [
       "1.68"
      ],
      "text/latex": [
       "1.68"
      ],
      "text/markdown": [
       "1.68"
      ],
      "text/plain": [
       "[1] 1.68"
      ]
     },
     "metadata": {},
     "output_type": "display_data"
    }
   ],
   "source": [
    "p2.c.lower = NA\n",
    "p2.c.upper = NA\n",
    "\n",
    "# your code here\n",
    "n.A <- length(times.A)\n",
    "n.B <- length(times.B)\n",
    "df.A <- n.A - 1\n",
    "df.B <- n.B - 1\n",
    "sample_var.A <- var(times.A)\n",
    "sample_var.B <- var(times.B)\n",
    "\n",
    "# calculate F values\n",
    "F.lower <- qf(0.025, df.A, df.B)\n",
    "F.upper <- qf(0.975, df.A, df.B)\n",
    "\n",
    "# calculate confidence interval\n",
    "p2.c.lower <- round((sample_var.A / sample_var.B) / F.upper, 2)\n",
    "p2.c.upper <- round((sample_var.A / sample_var.B) / F.lower, 2)\n",
    "\n",
    "\n",
    "p2.c.lower\n",
    "p2.c.upper"
   ]
  },
  {
   "cell_type": "code",
   "execution_count": null,
   "metadata": {
    "deletable": false,
    "editable": false,
    "nbgrader": {
     "cell_type": "code",
     "checksum": "49eeb66b76fdfc1f6093da878ffa2e8b",
     "grade": true,
     "grade_id": "cell-d5d6fb307503f413",
     "locked": true,
     "points": 3,
     "schema_version": 3,
     "solution": false,
     "task": false
    }
   },
   "outputs": [],
   "source": [
    "# Hidden Test Cell"
   ]
  },
  {
   "cell_type": "markdown",
   "metadata": {
    "deletable": false,
    "editable": false,
    "nbgrader": {
     "cell_type": "markdown",
     "checksum": "18605963b76253447d7e5b6051772b06",
     "grade": false,
     "grade_id": "cell-eccf4db1b022ec70",
     "locked": true,
     "schema_version": 3,
     "solution": false,
     "task": false
    }
   },
   "source": [
    "**Part D)** Based on your results to **part C**, is it plausible that $\\sigma_A^2 = \\sigma_B^2$ at the 95% confidence level? Enter the boolean value `TRUE` if it is plausible, or `FALSE` if it is not plausible. Save your answer as `p2.d`."
   ]
  },
  {
   "cell_type": "code",
   "execution_count": 25,
   "metadata": {
    "deletable": false,
    "nbgrader": {
     "cell_type": "code",
     "checksum": "9e48392ea448b978f4533e160fffd3b9",
     "grade": false,
     "grade_id": "cell-be81d5f362387cca",
     "locked": false,
     "schema_version": 3,
     "solution": true,
     "task": false
    }
   },
   "outputs": [],
   "source": [
    "# PLaceholder for answer. Ignore \"Code here\". No code is required\n",
    "p2.d = NA\n",
    "\n",
    "# your code here\n",
    "p2.d = TRUE\n"
   ]
  },
  {
   "cell_type": "code",
   "execution_count": null,
   "metadata": {
    "deletable": false,
    "editable": false,
    "nbgrader": {
     "cell_type": "code",
     "checksum": "f12ea50f094961c5d0f72ce2dc64b840",
     "grade": true,
     "grade_id": "cell-f65c3c8902da48d6",
     "locked": true,
     "points": 2,
     "schema_version": 3,
     "solution": false,
     "task": false
    }
   },
   "outputs": [],
   "source": [
    "# Hidden Test Cell"
   ]
  }
 ],
 "metadata": {
  "kernelspec": {
   "display_name": "R",
   "language": "R",
   "name": "ir"
  },
  "language_info": {
   "codemirror_mode": "r",
   "file_extension": ".r",
   "mimetype": "text/x-r-source",
   "name": "R",
   "pygments_lexer": "r",
   "version": "3.6.3"
  }
 },
 "nbformat": 4,
 "nbformat_minor": 4
}
