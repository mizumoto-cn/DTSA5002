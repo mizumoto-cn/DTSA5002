{
 "cells": [
  {
   "cell_type": "markdown",
   "metadata": {},
   "source": [
    "The purpose of this exercise is to get you more familiar with the Central Limit Theorem (CLT), and how it works with real values. Recall that the CLT states:\n",
    "\n",
    "Let $X_1, X_2, \\dots, X_n$ be random variables from some distribution with mean $\\mu$ and variance $\\sigma^2$. Then  $\\bar{X}=\\frac{1}{n} \\sum_{i=1}^n X_i$ will be approximately normally distributed and $\\frac{\\bar{X}-\\mu}{\\sigma / \\sqrt{n}} \\sim N(0, 1)$. Let's take a closer took at what that means for a sampling distribution."
   ]
  },
  {
   "cell_type": "code",
   "execution_count": 1,
   "metadata": {},
   "outputs": [
    {
     "data": {
      "text/html": [
       "0.691462461274013"
      ],
      "text/latex": [
       "0.691462461274013"
      ],
      "text/markdown": [
       "0.691462461274013"
      ],
      "text/plain": [
       "[1] 0.6914625"
      ]
     },
     "metadata": {},
     "output_type": "display_data"
    },
    {
     "data": {
      "text/html": [
       "0.691462461274013"
      ],
      "text/latex": [
       "0.691462461274013"
      ],
      "text/markdown": [
       "0.691462461274013"
      ],
      "text/plain": [
       "[1] 0.6914625"
      ]
     },
     "metadata": {},
     "output_type": "display_data"
    },
    {
     "data": {
      "text/html": [
       "0.806761884614384"
      ],
      "text/latex": [
       "0.806761884614384"
      ],
      "text/markdown": [
       "0.806761884614384"
      ],
      "text/plain": [
       "[1] 0.8067619"
      ]
     },
     "metadata": {},
     "output_type": "display_data"
    },
    {
     "data": {
      "text/html": [
       "0.806761884614384"
      ],
      "text/latex": [
       "0.806761884614384"
      ],
      "text/markdown": [
       "0.806761884614384"
      ],
      "text/plain": [
       "[1] 0.8067619"
      ]
     },
     "metadata": {},
     "output_type": "display_data"
    }
   ],
   "source": [
    "pnorm(2,1,2)\n",
    "pnorm(0.5)\n",
    "pnorm(2,1,sqrt(4/3))\n",
    "pnorm(sqrt(3/4))"
   ]
  },
  {
   "cell_type": "code",
   "execution_count": 2,
   "metadata": {},
   "outputs": [
    {
     "data": {
      "text/html": [
       "0.454036277627988"
      ],
      "text/latex": [
       "0.454036277627988"
      ],
      "text/markdown": [
       "0.454036277627988"
      ],
      "text/plain": [
       "[1] 0.4540363"
      ]
     },
     "metadata": {},
     "output_type": "display_data"
    },
    {
     "data": {
      "text/html": [
       "0.545963722372012"
      ],
      "text/latex": [
       "0.545963722372012"
      ],
      "text/markdown": [
       "0.545963722372012"
      ],
      "text/plain": [
       "[1] 0.5459637"
      ]
     },
     "metadata": {},
     "output_type": "display_data"
    },
    {
     "data": {
      "text/html": [
       "0.454036277627988"
      ],
      "text/latex": [
       "0.454036277627988"
      ],
      "text/markdown": [
       "0.454036277627988"
      ],
      "text/plain": [
       "[1] 0.4540363"
      ]
     },
     "metadata": {},
     "output_type": "display_data"
    },
    {
     "data": {
      "text/html": [
       "0.545963722372012"
      ],
      "text/latex": [
       "0.545963722372012"
      ],
      "text/markdown": [
       "0.545963722372012"
      ],
      "text/plain": [
       "[1] 0.5459637"
      ]
     },
     "metadata": {},
     "output_type": "display_data"
    },
    {
     "data": {
      "text/html": [
       "0.875893460505038"
      ],
      "text/latex": [
       "0.875893460505038"
      ],
      "text/markdown": [
       "0.875893460505038"
      ],
      "text/plain": [
       "[1] 0.8758935"
      ]
     },
     "metadata": {},
     "output_type": "display_data"
    }
   ],
   "source": [
    "pnorm(1.49,1.5,sqrt(3/400))\n",
    "1-pnorm(1.49,1.5,sqrt(3/400))\n",
    "pnorm(-sqrt(3)/15)\n",
    "1-pnorm(-sqrt(3)/15)\n",
    "1-pnorm(1.4,1.5,sqrt(3/400))"
   ]
  },
  {
   "cell_type": "markdown",
   "metadata": {},
   "source": [
    "Start by executing the following code cell to generate $5000$ samples from a [Weibull](https://en.wikipedia.org/wiki/Weibull_distribution) distribution, save them as `data`, and plot a histogram of the values. For the remainder of this notebook, this will be our underlying population distribution."
   ]
  },
  {
   "cell_type": "code",
   "execution_count": 3,
   "metadata": {},
   "outputs": [
    {
     "data": {
      "image/png": "[encoded data removed]",
      "text/plain": [
       "Plot with title “Histogram of data”"
      ]
     },
     "metadata": {
      "image/png": {
       "height": 420,
       "width": 420
      },
      "text/plain": {
       "height": 420,
       "width": 420
      }
     },
     "output_type": "display_data"
    }
   ],
   "source": [
    "set.seed(12345)\n",
    "# Generate random values from a Weibull distribution\n",
    "data = rweibull(5000, 1.5, scale=1)\n",
    "# Plot a histogram of the values\n",
    "breaks = seq(0, 4, 0.25)\n",
    "hist(data, breaks=breaks)"
   ]
  },
  {
   "cell_type": "markdown",
   "metadata": {},
   "source": [
    "Does this distribution look particularly normal? No, it has a long right tail and seems to have a hard cutoff at $x=0$. Let's see how this impacts the CLT.\n",
    "\n",
    "But first, what is the population mean? Use the `mean()` function to find out."
   ]
  },
  {
   "cell_type": "code",
   "execution_count": 4,
   "metadata": {},
   "outputs": [
    {
     "data": {
      "text/html": [
       "0.902832458756059"
      ],
      "text/latex": [
       "0.902832458756059"
      ],
      "text/markdown": [
       "0.902832458756059"
      ],
      "text/plain": [
       "[1] 0.9028325"
      ]
     },
     "metadata": {},
     "output_type": "display_data"
    }
   ],
   "source": [
    "mean(data)"
   ]
  },
  {
   "cell_type": "markdown",
   "metadata": {},
   "source": [
    "In reality, we won't know the underlying population's distribution. The best we can do is pull a sample from the population and test that. However, that leads to some questions like:\n",
    "* Is the sample mean a good estimate for the population mean?\n",
    "* How many samples do I need for my sample mean to be a good estimate of the population mean?\n",
    "\n",
    "Those are some of the questions we're going to answer. Finish the function below to return the mean of $n$ sample points from the data. That is, call `sample(data, n)` to generate $n$ samples from the population, then call `mean()` on those samples."
   ]
  },
  {
   "cell_type": "code",
   "execution_count": 5,
   "metadata": {},
   "outputs": [],
   "source": [
    "sample.mean <- function(data, n){\n",
    "    # Finish this function\n",
    "    # Sample n datapoints from the population\n",
    "    # Return the mean of those n samples.\n",
    "    sampledata = sample(data, n)\n",
    "#     print(sampledata)\n",
    "    mean(sampledata)\n",
    "}"
   ]
  },
  {
   "cell_type": "markdown",
   "metadata": {},
   "source": [
    "Using the function you just defined, generate the mean of a sample with a sample size $n=5$. Is it a good approximation of the population mean?"
   ]
  },
  {
   "cell_type": "code",
   "execution_count": 6,
   "metadata": {},
   "outputs": [
    {
     "data": {
      "text/html": [
       "1.06431260213155"
      ],
      "text/latex": [
       "1.06431260213155"
      ],
      "text/markdown": [
       "1.06431260213155"
      ],
      "text/plain": [
       "[1] 1.064313"
      ]
     },
     "metadata": {},
     "output_type": "display_data"
    }
   ],
   "source": [
    "sample.mean(data, 5)"
   ]
  },
  {
   "cell_type": "markdown",
   "metadata": {},
   "source": [
    "Notice that the sample mean $\\bar{X}$ is a random variable, and will produce a different value each time we call `sample.mean()`. That means $\\bar{X}$ has some distribution, which we can observe by generating many independent samples and plotting a histogram of the values.\n",
    "\n",
    "To do this, we can use the `replicate()` function, which allows us to call a function multiple times and create a vector containing all the results. Try `replicate(3, sample.mean(data, 5))` to create a vector of 3 sample means."
   ]
  },
  {
   "cell_type": "code",
   "execution_count": 7,
   "metadata": {},
   "outputs": [
    {
     "data": {
      "text/html": [
       "<style>\n",
       ".list-inline {list-style: none; margin:0; padding: 0}\n",
       ".list-inline>li {display: inline-block}\n",
       ".list-inline>li:not(:last-child)::after {content: \"\\00b7\"; padding: 0 .5ex}\n",
       "</style>\n",
       "<ol class=list-inline><li>1.00767529042486</li><li>0.544351589395297</li><li>0.832583089764267</li></ol>\n"
      ],
      "text/latex": [
       "\\begin{enumerate*}\n",
       "\\item 1.00767529042486\n",
       "\\item 0.544351589395297\n",
       "\\item 0.832583089764267\n",
       "\\end{enumerate*}\n"
      ],
      "text/markdown": [
       "1. 1.00767529042486\n",
       "2. 0.544351589395297\n",
       "3. 0.832583089764267\n",
       "\n",
       "\n"
      ],
      "text/plain": [
       "[1] 1.0076753 0.5443516 0.8325831"
      ]
     },
     "metadata": {},
     "output_type": "display_data"
    }
   ],
   "source": [
    "replicate(3, sample.mean(data, 5))"
   ]
  },
  {
   "cell_type": "markdown",
   "metadata": {},
   "source": [
    "Generate 3 different vectors of sample means of sizes 10, 100 and 1000 respectively. For now, keep the sample size as $n=5$ for all the vectors. Plot your results with histograms. Note that it may be helpful to have a fixed x-axis, so you can see how the histograms compare on the same scale. To do this, include `xlim=c(0,2)` as a parameter in your call to `hist()`. What do you notice?"
   ]
  },
  {
   "cell_type": "code",
   "execution_count": 8,
   "metadata": {},
   "outputs": [
    {
     "data": {
      "image/png": "[encoded data removed]",
      "text/plain": [
       "Plot with title “Histogram of v1”"
      ]
     },
     "metadata": {
      "image/png": {
       "height": 420,
       "width": 420
      },
      "text/plain": {
       "height": 420,
       "width": 420
      }
     },
     "output_type": "display_data"
    }
   ],
   "source": [
    "# Generate 10 sample means with n=5 and plot the results\n",
    "v1 = c(replicate(10, sample.mean(data, 5)))\n",
    "hist(v1)"
   ]
  },
  {
   "cell_type": "code",
   "execution_count": 9,
   "metadata": {},
   "outputs": [
    {
     "data": {
      "image/png": "[encoded data removed]",
      "text/plain": [
       "Plot with title “Histogram of v2”"
      ]
     },
     "metadata": {
      "image/png": {
       "height": 420,
       "width": 420
      },
      "text/plain": {
       "height": 420,
       "width": 420
      }
     },
     "output_type": "display_data"
    }
   ],
   "source": [
    "# Generate 100 sample means with n=5 and plot the results\n",
    "v2 = c(replicate(100, sample.mean(data, 5)))\n",
    "hist(v2)"
   ]
  },
  {
   "cell_type": "code",
   "execution_count": 10,
   "metadata": {},
   "outputs": [
    {
     "data": {
      "image/png": "[encoded data removed]",
      "text/plain": [
       "Plot with title “Histogram of v3”"
      ]
     },
     "metadata": {
      "image/png": {
       "height": 420,
       "width": 420
      },
      "text/plain": {
       "height": 420,
       "width": 420
      }
     },
     "output_type": "display_data"
    }
   ],
   "source": [
    "# Generate 1000 sample means with n=5 and plot the results\n",
    "v3 = c(replicate(1000, sample.mean(data, 5)))\n",
    "hist(v3)"
   ]
  },
  {
   "cell_type": "markdown",
   "metadata": {},
   "source": [
    "Now change the sample size and see how that affects the results. Generate 3 vectors of 100 samples means, coming from samples of sample sizes 5, 50, and 500. Plot your results. Again, it may be helpful to have a set x-limit on your histograms. What do you notice?"
   ]
  },
  {
   "cell_type": "code",
   "execution_count": 11,
   "metadata": {},
   "outputs": [
    {
     "data": {
      "image/png": "[encoded data removed]",
      "text/plain": [
       "Plot with title “Histogram of v4”"
      ]
     },
     "metadata": {
      "image/png": {
       "height": 420,
       "width": 420
      },
      "text/plain": {
       "height": 420,
       "width": 420
      }
     },
     "output_type": "display_data"
    }
   ],
   "source": [
    "# Generate 100 sample means with n=5 and plot the results\n",
    "v4 = c(replicate(100, sample.mean(data, 5)))\n",
    "hist(v4)"
   ]
  },
  {
   "cell_type": "code",
   "execution_count": 12,
   "metadata": {},
   "outputs": [
    {
     "data": {
      "image/png": "[encoded data removed]",
      "text/plain": [
       "Plot with title “Histogram of v5”"
      ]
     },
     "metadata": {
      "image/png": {
       "height": 420,
       "width": 420
      },
      "text/plain": {
       "height": 420,
       "width": 420
      }
     },
     "output_type": "display_data"
    }
   ],
   "source": [
    "# Generate 100 sample means with n=50 and plot the results\n",
    "v5 = c(replicate(100, sample.mean(data, 50)))\n",
    "hist(v5)"
   ]
  },
  {
   "cell_type": "code",
   "execution_count": 13,
   "metadata": {},
   "outputs": [
    {
     "data": {
      "image/png": "[encoded data removed]",
      "text/plain": [
       "Plot with title “Histogram of v6”"
      ]
     },
     "metadata": {
      "image/png": {
       "height": 420,
       "width": 420
      },
      "text/plain": {
       "height": 420,
       "width": 420
      }
     },
     "output_type": "display_data"
    }
   ],
   "source": [
    "# Generate 100 sample means with n=500 and plot the results\n",
    "v6 = c(replicate(100, sample.mean(data, 500)))\n",
    "hist(v6)"
   ]
  },
  {
   "cell_type": "markdown",
   "metadata": {},
   "source": [
    "The important things to notice are:\n",
    "* The distribution of $\\bar{X}$ is approximately normally distributed, even though our underlying population is not normal.\n",
    "* The mean of the sample distribution is about $0.9$, which is approximately the same as the mean for the population distribution.\n",
    "* The variance of the sample distribution decreases as the sample size increases.\n",
    "\n",
    "These ideas are the Central Limit Theorem!"
   ]
  }
 ],
 "metadata": {
  "kernelspec": {
   "display_name": "R",
   "language": "R",
   "name": "ir"
  },
  "language_info": {
   "codemirror_mode": "r",
   "file_extension": ".r",
   "mimetype": "text/x-r-source",
   "name": "R",
   "pygments_lexer": "r",
   "version": "3.6.3"
  }
 },
 "nbformat": 4,
 "nbformat_minor": 4
}
